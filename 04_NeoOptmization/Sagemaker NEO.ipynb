{
 "cells": [
  {
   "cell_type": "code",
   "execution_count": 2,
   "metadata": {},
   "outputs": [
    {
     "name": "stderr",
     "output_type": "stream",
     "text": [
      "INFO:sagemaker:Created S3 bucket: sagemaker-us-east-1-715445047862\n"
     ]
    }
   ],
   "source": [
    "import time\n",
    "import sagemaker\n",
    "import os\n",
    "import json\n",
    "import boto3\n",
    "\n",
    "# Retrieve the default bucket\n",
    "sagemaker_session = sagemaker.Session()\n",
    "default_bucket = sagemaker_session.default_bucket()"
   ]
  },
  {
   "cell_type": "code",
   "execution_count": 3,
   "metadata": {},
   "outputs": [],
   "source": [
    "role='arn:aws:iam::715445047862:role/MachineLearningHost'\n",
    "job_prefix='VGG'\n",
    "path='neo/%s' % job_prefix\n",
    "\n",
    "sm = boto3.client('sagemaker')"
   ]
  },
  {
   "cell_type": "code",
   "execution_count": 20,
   "metadata": {},
   "outputs": [
    {
     "name": "stdout",
     "output_type": "stream",
     "text": [
      "  % Total    % Received % Xferd  Average Speed   Time    Time     Time  Current\n",
      "                                 Dload  Upload   Total   Spent    Left  Speed\n",
      "100 90.7M  100 90.7M    0     0  48.4M      0  0:00:01  0:00:01 --:--:-- 48.4M\n"
     ]
    }
   ],
   "source": [
    "!curl -O http://download.tensorflow.org/models/official/20181001_resnet/savedmodels/resnet_v1_fp16_savedmodel_NHWC.tar.gz"
   ]
  },
  {
   "cell_type": "code",
   "execution_count": 35,
   "metadata": {},
   "outputs": [
    {
     "name": "stdout",
     "output_type": "stream",
     "text": [
      "upload: ./model.tar.gz to s3://sagemaker-us-east-1-715445047862/neo/VGG/model.tar.gz\n"
     ]
    }
   ],
   "source": [
    "!aws s3 cp model.tar.gz s3://$default_bucket/$path/model.tar.gz"
   ]
  },
  {
   "cell_type": "markdown",
   "metadata": {},
   "source": [
    "TensorFlow: You must specify the name and shape (NHWC format) of the expected data inputs using a dictionary format for your trained model. The dictionary formats required for the console and CLI are different.\n",
    "\n",
    "Examples for one input:\n",
    "\n",
    "If using the console, {\"input\":[1,1024,1024,3]}\n",
    "\n",
    "If using the CLI, {\\\"input\\\":[1,1024,1024,3]}\n",
    "\n",
    "https://docs.aws.amazon.com/sagemaker/latest/dg/API_InputConfig.html"
   ]
  },
  {
   "cell_type": "code",
   "execution_count": 4,
   "metadata": {},
   "outputs": [
    {
     "data": {
      "text/plain": [
       "{'CompilationJobArn': 'arn:aws:sagemaker:us-east-1:715445047862:compilation-job/VGG-1552396858',\n",
       " 'ResponseMetadata': {'RequestId': '3e05b4a0-97e4-46e9-aceb-7a003249466b',\n",
       "  'HTTPStatusCode': 200,\n",
       "  'HTTPHeaders': {'x-amzn-requestid': '3e05b4a0-97e4-46e9-aceb-7a003249466b',\n",
       "   'content-type': 'application/x-amz-json-1.1',\n",
       "   'content-length': '95',\n",
       "   'date': 'Tue, 12 Mar 2019 13:20:58 GMT'},\n",
       "  'RetryAttempts': 0}}"
      ]
     },
     "execution_count": 4,
     "metadata": {},
     "output_type": "execute_result"
    }
   ],
   "source": [
    "job_name=\"%s-%d\" % (job_prefix, int(time.time()))\n",
    "sm.create_compilation_job(\n",
    "    CompilationJobName=job_name,\n",
    "    RoleArn=role,\n",
    "    InputConfig={\n",
    "        'S3Uri': \"s3://%s/%s/model.tar.gz\" % (default_bucket, path),\n",
    "        'DataInputConfig': '{\"data\":[1,300,300,3]}',\n",
    "        'Framework': 'TENSORFLOW'\n",
    "    },\n",
    "    OutputConfig={\n",
    "        'S3OutputLocation': \"s3://%s/%s/\" % (default_bucket, path),\n",
    "        'TargetDevice': 'jetson_tx2' #'ml_m4'|'ml_m5'|'ml_c4'|'ml_c5'|'ml_p2'|'ml_p3'|'jetson_tx1'|'jetson_tx2'|'rasp3b'|'deeplens'\n",
    "    },\n",
    "    StoppingCondition={\n",
    "        'MaxRuntimeInSeconds': 300\n",
    "    }\n",
    ")"
   ]
  },
  {
   "cell_type": "code",
   "execution_count": 5,
   "metadata": {},
   "outputs": [
    {
     "name": "stdout",
     "output_type": "stream",
     "text": [
      "OK\n"
     ]
    }
   ],
   "source": [
    "resp = sm.describe_compilation_job(\n",
    "    CompilationJobName=job_name\n",
    ")\n",
    "if resp['CompilationJobStatus'] == 'FAILED':\n",
    "    print(resp['FailureReason'])\n",
    "elif resp['CompilationJobStatus'] == 'INPROGRESS':\n",
    "    print('COMPILING')\n",
    "else:\n",
    "    print('OK')\n"
   ]
  },
  {
   "cell_type": "code",
   "execution_count": null,
   "metadata": {},
   "outputs": [],
   "source": []
  }
 ],
 "metadata": {
  "kernelspec": {
   "display_name": "conda_tensorflow_p36",
   "language": "python",
   "name": "conda_tensorflow_p36"
  },
  "language_info": {
   "codemirror_mode": {
    "name": "ipython",
    "version": 3
   },
   "file_extension": ".py",
   "mimetype": "text/x-python",
   "name": "python",
   "nbconvert_exporter": "python",
   "pygments_lexer": "ipython3",
   "version": "3.6.5"
  }
 },
 "nbformat": 4,
 "nbformat_minor": 2
}
