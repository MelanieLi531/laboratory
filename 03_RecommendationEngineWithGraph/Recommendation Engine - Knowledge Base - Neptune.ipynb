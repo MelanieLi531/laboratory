{
 "cells": [
  {
   "cell_type": "markdown",
   "metadata": {},
   "source": [
    "# Recommendation with graph\n",
    "Adapted from: http://tinkerpop.apache.org/docs/current/recipes/#recommendation\n",
    "\n",
    "### Tinkerpop Documentation\n",
    "In Python, as, in, and, or, is, not, from, and global are reserved words\n",
    "http://tinkerpop.apache.org/docs/current/reference/#gremlin-python"
   ]
  },
  {
   "cell_type": "code",
   "execution_count": null,
   "metadata": {
    "scrolled": true
   },
   "outputs": [],
   "source": [
    "!pip install gremlinpython"
   ]
  },
  {
   "cell_type": "code",
   "execution_count": null,
   "metadata": {},
   "outputs": [],
   "source": [
    "from gremlin_python import statics\n",
    "from gremlin_python.structure.graph import Graph\n",
    "from gremlin_python.process.graph_traversal import __\n",
    "from gremlin_python.process.strategies import *\n",
    "from gremlin_python.driver.driver_remote_connection import DriverRemoteConnection\n",
    "\n",
    "\n",
    "from gremlin_python.process.traversal import T\n",
    "from gremlin_python.process.traversal import Order\n",
    "from gremlin_python.process.traversal import Cardinality\n",
    "from gremlin_python.process.traversal import Column\n",
    "from gremlin_python.process.traversal import Direction\n",
    "from gremlin_python.process.traversal import Operator\n",
    "from gremlin_python.process.traversal import P\n",
    "from gremlin_python.process.traversal import Pop\n",
    "from gremlin_python.process.traversal import Scope\n",
    "from gremlin_python.process.traversal import Barrier"
   ]
  },
  {
   "cell_type": "code",
   "execution_count": null,
   "metadata": {},
   "outputs": [],
   "source": [
    "graph = Graph()\n",
    "\n",
    "driver = DriverRemoteConnection('ws://<PUT_YOUR_NEPTUNE_URL_HERE>:8182/gremlin','g')\n",
    "g = graph.traversal().withRemote(driver)"
   ]
  },
  {
   "cell_type": "markdown",
   "metadata": {},
   "source": [
    "## Clean everything"
   ]
  },
  {
   "cell_type": "code",
   "execution_count": null,
   "metadata": {},
   "outputs": [],
   "source": [
    "g.V().drop().iterate().toList()"
   ]
  },
  {
   "cell_type": "code",
   "execution_count": null,
   "metadata": {},
   "outputs": [],
   "source": [
    "g.V().properties().toList()"
   ]
  },
  {
   "cell_type": "code",
   "execution_count": null,
   "metadata": {},
   "outputs": [],
   "source": [
    "g.E().toList()"
   ]
  },
  {
   "cell_type": "markdown",
   "metadata": {},
   "source": [
    "## Add vertices"
   ]
  },
  {
   "cell_type": "code",
   "execution_count": null,
   "metadata": {},
   "outputs": [],
   "source": [
    "for n in [\"alice\", \"bob\", \"jon\", \"jack\", \"jill\"]:\n",
    "    g.addV(\"person\").property(\"name\",n ).iterate()"
   ]
  },
  {
   "cell_type": "code",
   "execution_count": null,
   "metadata": {},
   "outputs": [],
   "source": [
    "for i in range(1, 11):\n",
    "    g.addV(\"product\").property(\"name\",\"product #%d\" % i).iterate()"
   ]
  },
  {
   "cell_type": "markdown",
   "metadata": {},
   "source": [
    "## Add edges"
   ]
  },
  {
   "cell_type": "code",
   "execution_count": null,
   "metadata": {},
   "outputs": [],
   "source": [
    "for i in range(3, 8):\n",
    "    product = g.V().has(\"product\", \"name\",\"product #%d\" % i)\n",
    "    g.V().has(\"person\", \"name\", \"alice\").addE('bought').to(product).iterate()"
   ]
  },
  {
   "cell_type": "code",
   "execution_count": null,
   "metadata": {},
   "outputs": [],
   "source": [
    "for i in range(1, 6):\n",
    "    g.V().has(\"person\", \"name\", \"bob\").addE('bought').to(g.V().has(\"product\", \"name\",\"product #%d\" % i)).iterate()"
   ]
  },
  {
   "cell_type": "code",
   "execution_count": null,
   "metadata": {},
   "outputs": [],
   "source": [
    "for i in range(6, 11):\n",
    "    g.V().has(\"person\", \"name\", \"jon\").addE('bought').to(g.V().has(\"product\", \"name\",\"product #%d\" % i)).iterate()"
   ]
  },
  {
   "cell_type": "code",
   "execution_count": null,
   "metadata": {},
   "outputs": [],
   "source": [
    "for i in range(11):\n",
    "    i += 1\n",
    "    if i%2==0:\n",
    "        g.V().has(\"person\", \"name\", \"jack\").addE('bought').to(g.V().has(\"product\", \"name\",\"product #%d\" % i)).iterate()"
   ]
  },
  {
   "cell_type": "code",
   "execution_count": null,
   "metadata": {},
   "outputs": [],
   "source": [
    "for i in range(11):\n",
    "    if i%2==1:\n",
    "        g.V().has(\"person\", \"name\", \"jill\").addE('bought').to(g.V().has(\"product\", \"name\",\"product #%d\" % i)).iterate()"
   ]
  },
  {
   "cell_type": "markdown",
   "metadata": {},
   "source": [
    "## Some queries"
   ]
  },
  {
   "cell_type": "code",
   "execution_count": null,
   "metadata": {},
   "outputs": [],
   "source": [
    "statics.load_statics(globals())"
   ]
  },
  {
   "cell_type": "markdown",
   "metadata": {},
   "source": [
    "#### The first step to making a recommendation to \"alice\" using collaborative filtering is to understand what she bought:"
   ]
  },
  {
   "cell_type": "code",
   "execution_count": null,
   "metadata": {},
   "outputs": [],
   "source": [
    "g.V().has('name','alice').out('bought').properties().toList()"
   ]
  },
  {
   "cell_type": "markdown",
   "metadata": {},
   "source": [
    "![RecommendationAlice1](http://tinkerpop.apache.org/docs/current/images/recommendation-alice-1.png)\n",
    "> The next step is to determine who else purchased those products:"
   ]
  },
  {
   "cell_type": "code",
   "execution_count": null,
   "metadata": {},
   "outputs": [],
   "source": [
    "g.V().has('name','alice').out('bought').in_('bought').dedup().values('name').toList()"
   ]
  },
  {
   "cell_type": "markdown",
   "metadata": {},
   "source": [
    "> It is worth noting that \"alice\" is in the results above. She should really be excluded from the list as the interest is in what individuals other than herself purchased:"
   ]
  },
  {
   "cell_type": "code",
   "execution_count": null,
   "metadata": {},
   "outputs": [],
   "source": [
    "g.V().has('name','alice').as_('her').out('bought').in_('bought').where(P.neq('her')).dedup().values('name').toList()"
   ]
  },
  {
   "cell_type": "markdown",
   "metadata": {},
   "source": [
    "> The following diagram shows \"alice\" and those others who purchased \"product #5\".\n",
    "![RecommendationAlice2](http://tinkerpop.apache.org/docs/current/images/recommendation-alice-2.png)\n",
    "> The knowledge of the people who bought the same things as \"alice\" can then be used to find the set of products that they bought:"
   ]
  },
  {
   "cell_type": "code",
   "execution_count": null,
   "metadata": {},
   "outputs": [],
   "source": [
    "g.V().has('name','alice').as_('her').out('bought').in_('bought').where(P.neq('her')).out('bought').dedup().values('name').toList()"
   ]
  },
  {
   "cell_type": "markdown",
   "metadata": {},
   "source": [
    "![RecommendationAlice3](http://tinkerpop.apache.org/docs/current/images/recommendation-alice-3.png)\n",
    "> This set of products could be the basis for recommendation, but it is important to remember that \"alice\" may have already purchased some of these products and it would be better to not pester her with recommendations for products that she already owns. Those products she already purchased can be excluded as follows:\n",
    "\n"
   ]
  },
  {
   "cell_type": "code",
   "execution_count": null,
   "metadata": {},
   "outputs": [],
   "source": [
    "g.V().has('name','alice').as_('her').out('bought').aggregate('self').in_('bought').where(P.neq('her')).out('bought').where(P.without('self')).dedup().values('name').toList()"
   ]
  },
  {
   "cell_type": "markdown",
   "metadata": {},
   "source": [
    "![RecommendationAlice4](http://tinkerpop.apache.org/docs/current/images/recommendation-alice-4.png)\n",
    "> The final step would be to group the remaining products (instead of dedup() which was mostly done for demonstration purposes) to form a ranking:"
   ]
  },
  {
   "cell_type": "code",
   "execution_count": null,
   "metadata": {},
   "outputs": [],
   "source": [
    "g.V().has('person','name','alice').as_('her').out('bought').aggregate('self').in_('bought').where(P.neq('her')).out('bought').where(P.without('self')).groupCount().order().toList()\n",
    "\n"
   ]
  },
  {
   "cell_type": "markdown",
   "metadata": {},
   "source": [
    "- Find \"alice\" who is the person for whom the product recommendation is being made.\n",
    "\n",
    "- Traverse to the products that \"alice\" bought and gather them for later use in the traversal.\n",
    "\n",
    "- Traverse to the \"person\" vertices who bought the products that \"alice\" bought and exclude \"alice\" herself from that list.\n",
    "\n",
    "- Given those people who bought similar products to \"alice\", find the products that they bought and exclude those that she already bought.\n",
    "\n",
    "- Group the products and count the number of times they were purchased by others to come up with a ranking of products to recommend to \"alice\".\n",
    "\n",
    "> The previous example was already described as \"basic\" and obviously could take into account whatever data is available to further improve the quality of the recommendation (e.g. product ratings, times of purchase, etc.). One option to improve the quality of what is recommended (without expanding the previous dataset) might be to choose the person vertices that make up the recommendation to \"alice\" who have the largest common set of purchases.\n",
    "\n",
    "> Looking back to the previous code example, consider its more strip down representation that shows those individuals who have at least one product in common:"
   ]
  },
  {
   "cell_type": "code",
   "execution_count": null,
   "metadata": {},
   "outputs": [],
   "source": [
    "g.V().has('person','name','alice').as_('her').out('bought').aggregate('self').in_('bought').where(\n",
    "    P.neq('her')\n",
    ").out('bought').where(\n",
    "    P.without('self')\n",
    ").groupCount().order(local).by(values, Order.decr).toList()                                                   "
   ]
  },
  {
   "cell_type": "markdown",
   "metadata": {},
   "source": [
    "> Next, do some grouping to find count how many products they have in common:"
   ]
  },
  {
   "cell_type": "code",
   "execution_count": null,
   "metadata": {},
   "outputs": [],
   "source": [
    "g.V().has(\"person\",\"name\",\"alice\").as_(\"alice\").out(\"bought\").aggregate(\"self\").in_(\"bought\").where(\n",
    "    P.neq(\"alice\")\n",
    ").dedup().group().by().by(out(\"bought\").where(P.within(\"self\")).count()).toList()"
   ]
  },
  {
   "cell_type": "markdown",
   "metadata": {},
   "source": [
    "> Now that there is a list of \"person\" vertices to base the recommendation on, traverse to the products that they purchased:"
   ]
  },
  {
   "cell_type": "code",
   "execution_count": null,
   "metadata": {},
   "outputs": [],
   "source": [
    "g.V().has(\"person\",\"name\",\"alice\").as_(\"alice\").out(\"bought\").aggregate(\"self\").in_(\"bought\").where(\n",
    "    neq(\"alice\")\n",
    ").dedup().group().by().by(\n",
    "    out(\"bought\").where(within(\"self\")).count()\n",
    ").as_(\"g\").select(values).order(local).by(Order.decr).limit(local, 1).as_(\"m\").select(\"g\").unfold().where(\n",
    "    select(values).as_(\"m\")\n",
    ").select(keys).out(\"bought\").where(without(\"self\")).toList()"
   ]
  },
  {
   "cell_type": "markdown",
   "metadata": {},
   "source": [
    "> The above output shows that one product is held in common making it the top recommendation:"
   ]
  },
  {
   "cell_type": "code",
   "execution_count": null,
   "metadata": {},
   "outputs": [],
   "source": [
    "g.V().has(\"person\",\"name\",\"alice\").as_(\"alice\").out(\"bought\").aggregate(\"self\").in_(\"bought\").where(\n",
    "   neq(\"alice\")\n",
    ").dedup().group().by().by(out(\"bought\").where(\n",
    "    within(\"self\")\n",
    ").count()).as_(\"g\").select(values).order(local).by(decr).limit(local, 1).as_(\"m\").select(\"g\").unfold().where(\n",
    "    select(values).as_(\"m\")\n",
    ").select(keys).out(\"bought\").where(\n",
    "    without(\"self\")\n",
    ").groupCount().order(local).by(values, Order.decr).by(\n",
    "    select(keys).values(\"name\")\n",
    ").unfold().select(keys).values(\"name\").toList()"
   ]
  },
  {
   "cell_type": "markdown",
   "metadata": {},
   "source": [
    "> In considering the practical applications of this recipe, it is worth revisiting the earlier \"basic\" version of the recommendation algorithm:"
   ]
  },
  {
   "cell_type": "code",
   "execution_count": null,
   "metadata": {},
   "outputs": [],
   "source": [
    "g.V().has('person','name','alice').as_('her').out('bought').aggregate('self').in_('bought').where(\n",
    "    neq('her')\n",
    ").out('bought').where(\n",
    "    without('self')\n",
    ").groupCount().order(local).by(values, Order.decr).toList()"
   ]
  },
  {
   "cell_type": "markdown",
   "metadata": {},
   "source": [
    "> The above traversal performs a full ranking of items based on all the connected data. That could be a time consuming operation depending on the number of paths being traversed. As it turns out, recommendations don’t need to have perfect knowledge of all data to provide a \"pretty good\" approximation of a recommendation. It can therefore make sense to place additional limits on the traversal to have it better return more quickly at the expense of examining less data.\n",
    "\n",
    "> Gremlin provides a number of steps that can help with these limits like: coin(), sample(), and timeLimit(). For example, to have the traversal sample the data for no longer than one second, the previous \"basic\" recommendation could be changed to:"
   ]
  },
  {
   "cell_type": "code",
   "execution_count": null,
   "metadata": {},
   "outputs": [],
   "source": [
    "g.V().has('person','name','alice').as_('her').out('bought').aggregate('self').in_('bought').where(\n",
    "    neq('her')\n",
    ").out('bought').where(\n",
    "    without('self')\n",
    ").timeLimit(1000).groupCount().order(local).by(values, Order.decr).toList()"
   ]
  },
  {
   "cell_type": "markdown",
   "metadata": {},
   "source": [
    "> In using sampling methods, it is important to consider that the natural ordering of edges in the graph may not produce an ideal sample for the recommendation. For example, if the edges end up being returned oldest first, then the recommendation will be based on the oldest data, which would not be ideal. As with any traversal, it is important to understand the nature of the graph being traversed and the behavior of the underlying graph database to properly achieve the desired outcome."
   ]
  },
  {
   "cell_type": "markdown",
   "metadata": {},
   "source": [
    "# Well Done!"
   ]
  }
 ],
 "metadata": {
  "kernelspec": {
   "display_name": "conda_python3",
   "language": "python",
   "name": "conda_python3"
  },
  "language_info": {
   "codemirror_mode": {
    "name": "ipython",
    "version": 3
   },
   "file_extension": ".py",
   "mimetype": "text/x-python",
   "name": "python",
   "nbconvert_exporter": "python",
   "pygments_lexer": "ipython3",
   "version": "3.6.5"
  }
 },
 "nbformat": 4,
 "nbformat_minor": 2
}
